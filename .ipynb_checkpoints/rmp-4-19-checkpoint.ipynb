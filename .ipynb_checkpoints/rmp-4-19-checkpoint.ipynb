{
 "cells": [
  {
   "cell_type": "markdown",
   "id": "ee83fb30-9c0a-4d0c-b293-4e2c15261617",
   "metadata": {},
   "source": [
    "# Rate My Professor Web Scaping Workshop 4/19/2023 for CDJ"
   ]
  },
  {
   "cell_type": "code",
   "execution_count": null,
   "id": "69318ef6-929a-411e-ac7c-0108843c7797",
   "metadata": {},
   "outputs": [],
   "source": [
    "from selenium import webdriver\n",
    "from selenium.webdriver.common.by import By\n",
    "from selenium.webdriver.support.ui import WebDriverWait\n",
    "from selenium.webdriver.support import expected_conditions as EC\n",
    "from selenium.webdriver.chrome.service import Service\n",
    "from webdriver_manager.chrome import ChromeDriverManager\n",
    "from selenium.webdriver.chrome.options import Options\n",
    "import pandas as pd\n",
    "import time\n",
    "import csv\n",
    "\n",
    "# most of these are disabling/closing popups\n",
    "options = Options()\n",
    "options.add_argument(\"--disable-notifications\")\n",
    "options.add_argument(\"start-maximized\")\n",
    "options.add_argument(\"enable-automation\")\n",
    "options.add_argument(\"--no-sandbox\")\n",
    "options.add_argument(\"--disable-infobars\")\n",
    "options.add_argument(\"--disable-dev-shm-usage\")\n",
    "options.add_argument(\"--disable-browser-side-navigation\")\n",
    "options.add_argument(\"--disable-gpu\"); \n",
    "options.add_argument(\"--disable-popup-blocking\");\n",
    "#cmd-shift-g\n",
    "# For Mac: ~/Library/Application Support/Google/Chrome/Default/Extensions\n",
    "path_to_extension = r'~/Library/Application Support/Google/Chrome/Default/Extensions/cfhdojbkjhnklbpkdaibdccddilifddb/3.16.2_0'\n",
    "options.add_argument('load-extension=' + path_to_extension)\n",
    "\n",
    "driver = webdriver.Chrome(service=Service(ChromeDriverManager().install()), options=options)"
   ]
  },
  {
   "cell_type": "code",
   "execution_count": 125,
   "id": "a26a0694-cb8f-40ce-9a78-e632329ad1d5",
   "metadata": {},
   "outputs": [],
   "source": [
    "driver.get(\"https://www.ratemyprofessors.com/search/teachers?query=*&sid=298\")"
   ]
  },
  {
   "cell_type": "code",
   "execution_count": 126,
   "id": "84d710f6-3f07-43b3-9ceb-5b799c230afb",
   "metadata": {},
   "outputs": [],
   "source": [
    "# using the wait command to close a cookie popup that the previous options didn't account for\n",
    "WebDriverWait(driver, 10).until(EC.element_to_be_clickable((By.XPATH, \"//button[@class='Buttons__Button-sc-19xdot-1 CCPAModal__StyledCloseButton-sc-10x9kq-2 gvGrz']\"))).click()"
   ]
  },
  {
   "cell_type": "code",
   "execution_count": 127,
   "id": "d06e0cf7-da18-4a81-83a8-00792134875b",
   "metadata": {},
   "outputs": [],
   "source": [
    "#get more of list\n",
    "num = 2557\n",
    "# button_clicks = (int(num) - 8)/8\n",
    "button_clicks = 8\n",
    "\n",
    "for i in range(int(button_clicks)):\n",
    "    button = driver.find_element(\"xpath\",\"//button[@class = 'Buttons__Button-sc-19xdot-1 PaginationButton__StyledPaginationButton-txi1dr-1 gjQZal']\")\n",
    "    button.click()\n",
    "    time.sleep(2)"
   ]
  },
  {
   "cell_type": "code",
   "execution_count": 128,
   "id": "b8202f72-ac33-4182-be51-37155c12ce0a",
   "metadata": {},
   "outputs": [],
   "source": [
    "#getting dictionary of professor urls\n",
    "\n",
    "prof_track = {}\n",
    "professors = driver.find_elements(\"xpath\", \"//a[@class = 'TeacherCard__StyledTeacherCard-syjs0d-0 dLJIlx']\")\n",
    "\n",
    "for x in professors:\n",
    "    name = x.find_element(\"xpath\", \".//div[@class ='CardName__StyledCardName-sc-1gyrgim-0 cJdVEK']\").get_attribute(\"innerText\")\n",
    "    url = x.get_attribute(\"href\")\n",
    "    prof_track.update( {name : url} )"
   ]
  },
  {
   "cell_type": "code",
   "execution_count": 129,
   "id": "715c80d0-8136-4c1a-92ab-9cf9a6398404",
   "metadata": {},
   "outputs": [],
   "source": [
    "def get_key_from_value(d, val):\n",
    "    return [k for k, v in d.items() if v == val]"
   ]
  },
  {
   "cell_type": "code",
   "execution_count": 133,
   "id": "3859efe1-9474-426c-94c0-a554d4f221ae",
   "metadata": {},
   "outputs": [],
   "source": [
    "rmp_dict = {\"Professor\":[], \"Department\":[], \"Content\":[], \"Quality_Score\":[],\"Difficulty_Score\":[]}\n",
    "\n",
    "for url in prof_track.values():\n",
    "    driver.get(url)\n",
    "\n",
    "        # printing out the overall number of ratings for each professor.\n",
    "    num_ratings = driver.find_element(\"xpath\",\"//html/body/div[2]/div/div/div[3]/div[2]/div[1]/div[1]/div[2]/div/a\").text.split(\" \")[0]\n",
    "        # print(num_ratings)\n",
    "\n",
    "        # calcuate how many load more buttons we need to click\n",
    "    button_clicks = round((int(num_ratings) - 20)/10)\n",
    "    #print(button_clicks)\n",
    "\n",
    "    for i in range(int(button_clicks)):\n",
    "        button = driver.find_element(\"xpath\",\"//button[@class = 'Buttons__Button-sc-19xdot-1 PaginationButton__StyledPaginationButton-txi1dr-1 gjQZal']\")\n",
    "        button.click()\n",
    "        time.sleep(1)\n",
    "\n",
    "    reviews = driver.find_elements(\"xpath\",\"//div[@class ='Rating__StyledRating-sc-1rhvpxz-1 jcIQzP']\")\n",
    "\n",
    "    department = driver.find_element(\"xpath\",\".//a[@class='TeacherDepartment__StyledDepartmentLink-fl79e8-0 fuypDB']\").get_attribute(\"innerText\")\n",
    "\n",
    "    for review in reviews:\n",
    "        content = review.find_element(\"xpath\", \".//div[@class ='Comments__StyledComments-dzzyvm-0 gRjWel']\").get_attribute(\"innerText\")\n",
    "        # print(content)\n",
    "        quality_score = review.find_element(\"xpath\", \".//div[@class ='RatingValues__StyledRatingValues-sc-6dc747-0 gFOUvY']\").get_attribute(\"innerText\").splitlines()[1]\n",
    "        #print(quality_score)\n",
    "        difficulty_score = review.find_element(\"xpath\", \".//div[@class ='RatingValues__StyledRatingValues-sc-6dc747-0 gFOUvY']\").get_attribute(\"innerText\").splitlines()[3]\n",
    "        #print(difficulty_score)\n",
    "\n",
    "        rmp_dict[\"Professor\"].append(get_key_from_value(prof_track, url))\n",
    "        rmp_dict[\"Department\"].append(department)\n",
    "        rmp_dict[\"Content\"].append(content)\n",
    "        rmp_dict[\"Quality_Score\"].append(quality_score)\n",
    "        rmp_dict[\"Difficulty_Score\"].append(difficulty_score)"
   ]
  },
  {
   "cell_type": "code",
   "execution_count": 135,
   "id": "9320ab33-f71a-43aa-a1ca-56f0f8ba910a",
   "metadata": {},
   "outputs": [],
   "source": [
    "#rmp_dict"
   ]
  },
  {
   "cell_type": "code",
   "execution_count": 139,
   "id": "1b65e212-d60e-4504-9cca-6cbf43b3dea1",
   "metadata": {},
   "outputs": [],
   "source": [
    "df = pd.DataFrame.from_dict(rmp_dict)"
   ]
  },
  {
   "cell_type": "code",
   "execution_count": 143,
   "id": "98edd21f-9728-48c0-8305-6671033e6b2a",
   "metadata": {},
   "outputs": [
    {
     "data": {
      "text/html": [
       "<div>\n",
       "<style scoped>\n",
       "    .dataframe tbody tr th:only-of-type {\n",
       "        vertical-align: middle;\n",
       "    }\n",
       "\n",
       "    .dataframe tbody tr th {\n",
       "        vertical-align: top;\n",
       "    }\n",
       "\n",
       "    .dataframe thead th {\n",
       "        text-align: right;\n",
       "    }\n",
       "</style>\n",
       "<table border=\"1\" class=\"dataframe\">\n",
       "  <thead>\n",
       "    <tr style=\"text-align: right;\">\n",
       "      <th></th>\n",
       "      <th>Professor</th>\n",
       "      <th>Department</th>\n",
       "      <th>Content</th>\n",
       "      <th>Quality_Score</th>\n",
       "      <th>Difficulty_Score</th>\n",
       "    </tr>\n",
       "  </thead>\n",
       "  <tbody>\n",
       "    <tr>\n",
       "      <th>1755</th>\n",
       "      <td>[Deborah Streeter]</td>\n",
       "      <td>Business department</td>\n",
       "      <td>The best of the best!</td>\n",
       "      <td>5.0</td>\n",
       "      <td>3.0</td>\n",
       "    </tr>\n",
       "    <tr>\n",
       "      <th>1756</th>\n",
       "      <td>[Deborah Streeter]</td>\n",
       "      <td>Business department</td>\n",
       "      <td>this class is excellent if you're interested i...</td>\n",
       "      <td>5.0</td>\n",
       "      <td>4.0</td>\n",
       "    </tr>\n",
       "    <tr>\n",
       "      <th>1757</th>\n",
       "      <td>[Deborah Streeter]</td>\n",
       "      <td>Business department</td>\n",
       "      <td>No Comments</td>\n",
       "      <td>1.0</td>\n",
       "      <td>3.0</td>\n",
       "    </tr>\n",
       "    <tr>\n",
       "      <th>1758</th>\n",
       "      <td>[Deborah Streeter]</td>\n",
       "      <td>Business department</td>\n",
       "      <td>Dedicated, inspiring and creative. You'll want...</td>\n",
       "      <td>5.0</td>\n",
       "      <td>2.0</td>\n",
       "    </tr>\n",
       "    <tr>\n",
       "      <th>1759</th>\n",
       "      <td>[Deborah Streeter]</td>\n",
       "      <td>Business department</td>\n",
       "      <td>No Comments</td>\n",
       "      <td>5.0</td>\n",
       "      <td>3.0</td>\n",
       "    </tr>\n",
       "  </tbody>\n",
       "</table>\n",
       "</div>"
      ],
      "text/plain": [
       "               Professor           Department  \\\n",
       "1755  [Deborah Streeter]  Business department   \n",
       "1756  [Deborah Streeter]  Business department   \n",
       "1757  [Deborah Streeter]  Business department   \n",
       "1758  [Deborah Streeter]  Business department   \n",
       "1759  [Deborah Streeter]  Business department   \n",
       "\n",
       "                                                Content Quality_Score  \\\n",
       "1755                              The best of the best!           5.0   \n",
       "1756  this class is excellent if you're interested i...           5.0   \n",
       "1757                                        No Comments           1.0   \n",
       "1758  Dedicated, inspiring and creative. You'll want...           5.0   \n",
       "1759                                        No Comments           5.0   \n",
       "\n",
       "     Difficulty_Score  \n",
       "1755              3.0  \n",
       "1756              4.0  \n",
       "1757              3.0  \n",
       "1758              2.0  \n",
       "1759              3.0  "
      ]
     },
     "execution_count": 143,
     "metadata": {},
     "output_type": "execute_result"
    }
   ],
   "source": [
    "df.tail()"
   ]
  },
  {
   "cell_type": "code",
   "execution_count": null,
   "id": "0569675c-f36c-463e-8804-1e30f2c295df",
   "metadata": {},
   "outputs": [],
   "source": []
  }
 ],
 "metadata": {
  "kernelspec": {
   "display_name": "Python 3 (ipykernel)",
   "language": "python",
   "name": "python3"
  },
  "language_info": {
   "codemirror_mode": {
    "name": "ipython",
    "version": 3
   },
   "file_extension": ".py",
   "mimetype": "text/x-python",
   "name": "python",
   "nbconvert_exporter": "python",
   "pygments_lexer": "ipython3",
   "version": "3.9.7"
  }
 },
 "nbformat": 4,
 "nbformat_minor": 5
}
